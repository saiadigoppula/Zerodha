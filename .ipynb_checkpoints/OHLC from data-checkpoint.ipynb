{
 "cells": [
  {
   "cell_type": "code",
   "execution_count": null,
   "metadata": {},
   "outputs": [],
   "source": []
  },
  {
   "cell_type": "code",
   "execution_count": 9,
   "metadata": {},
   "outputs": [
    {
     "name": "stdout",
     "output_type": "stream",
     "text": [
      "0\n",
      "10\n"
     ]
    }
   ],
   "source": [
    "openn = 0\n",
    "high = 0\n",
    "low = 0\n",
    "close = 0\n",
    "first_open = 0\n",
    "\n",
    "def fun():\n",
    "    global openn\n",
    "    global high\n",
    "    global low\n",
    "    global close\n",
    "    global first_open\n",
    "    print(openn)\n",
    "    \n",
    "    \n",
    "    \n",
    "    \n",
    "    # for open\n",
    "    if(first_open == 0):\n",
    "        openn = curnt_value\n",
    "        first_open = 1\n",
    "        #high\n",
    "        high = openn\n",
    "        low = openn\n",
    "    \n",
    "    \n",
    "    #for high\n",
    "    if(high<curnt_value):\n",
    "        high = curnt_value\n",
    "        \n",
    "    #for low\n",
    "    if(low<curnt_value):\n",
    "        low = curnt_value\n",
    "        \n",
    "    \n",
    "    if(first_open == 1):\n",
    "        close = curnt_value\n",
    "        first_open = 0\n",
    "        \n",
    "    \n",
    "    \n",
    "    \n",
    "fun()\n",
    "print(openn)"
   ]
  },
  {
   "cell_type": "code",
   "execution_count": null,
   "metadata": {},
   "outputs": [],
   "source": []
  }
 ],
 "metadata": {
  "kernelspec": {
   "display_name": "Python 3",
   "language": "python",
   "name": "python3"
  },
  "language_info": {
   "codemirror_mode": {
    "name": "ipython",
    "version": 3
   },
   "file_extension": ".py",
   "mimetype": "text/x-python",
   "name": "python",
   "nbconvert_exporter": "python",
   "pygments_lexer": "ipython3",
   "version": "3.7.4"
  }
 },
 "nbformat": 4,
 "nbformat_minor": 2
}
